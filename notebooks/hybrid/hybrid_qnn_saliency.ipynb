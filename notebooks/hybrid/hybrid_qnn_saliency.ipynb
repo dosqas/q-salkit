{
 "cells": [
  {
   "cell_type": "code",
   "execution_count": 1,
   "id": "d09336b1-7773-4081-a5ed-0d0cc3684ca1",
   "metadata": {},
   "outputs": [],
   "source": [
    "import torch\n",
    "import torch.nn as nn\n",
    "from torch.utils.data import TensorDataset, DataLoader\n",
    "from sklearn.datasets import load_iris\n",
    "from sklearn.preprocessing import StandardScaler\n",
    "from sklearn.model_selection import train_test_split"
   ]
  },
  {
   "cell_type": "code",
   "execution_count": 2,
   "id": "fd837e16-0607-453b-afd8-1f224ad5f8fb",
   "metadata": {},
   "outputs": [],
   "source": [
    "from qiskit_machine_learning.neural_networks import EstimatorQNN\n",
    "from qiskit import QuantumCircuit\n",
    "from qiskit.circuit import Parameter\n",
    "from qiskit_aer import AerSimulator\n",
    "from qiskit_ibm_runtime import EstimatorV2\n",
    "from qiskit_machine_learning.connectors import TorchConnector\n",
    "from qiskit.quantum_info import SparsePauliOp\n",
    "from qiskit_machine_learning.gradients import ParamShiftEstimatorGradient"
   ]
  },
  {
   "cell_type": "code",
   "execution_count": null,
   "id": "41e1bd2a-d55c-4c0c-a76c-0973f763301a",
   "metadata": {},
   "outputs": [],
   "source": [
    "# Load the iris dataset\n",
    "iris = load_iris()\n",
    "X = iris.data             # Extract the features (sepal length, sepal width, petal length, petal width)\n",
    "y = iris.target           # Extract the labels (0, 1, 2 for the three Iris species)\n",
    "\n",
    "scaler = StandardScaler()  # Standard scaler to normalize the features\n",
    "X_scaled = scaler.fit_transform(X)  # Scale features to zero mean and unit variance\n",
    "\n",
    "# Further scale features to the range [0, pi] for quantum angle encoding\n",
    "X_scaled = (X_scaled - X_scaled.min()) / (X_scaled.max() - X_scaled.min()) * 3.14159\n",
    "\n",
    "# Split the data into training/testing sets with an 80/20 split\n",
    "X_train, X_test, y_train, y_test = train_test_split(X_scaled, y, test_size=0.2, random_state=42)\n",
    "\n",
    "# Convert the data to tensors\n",
    "X_train = torch.tensor(X_train, dtype=torch.float32)\n",
    "X_test = torch.tensor(X_test, dtype=torch.float32)\n",
    "y_train = torch.tensor(y_train, dtype=torch.long)\n",
    "y_test = torch.tensor(y_test, dtype=torch.long)"
   ]
  },
  {
   "cell_type": "code",
   "execution_count": 9,
   "id": "43c09c61-27b7-4b53-8fbc-40b9571ebb88",
   "metadata": {},
   "outputs": [
    {
     "data": {
      "image/png": "[encoded data removed]",
      "text/plain": [
       "<Figure size 872.774x367.889 with 1 Axes>"
      ]
     },
     "execution_count": 9,
     "metadata": {},
     "output_type": "execute_result"
    }
   ],
   "source": [
    "batch_size = 8  # Number of samples per batch\n",
    "train_dataset = TensorDataset(X_train, y_train)  # Combine features and labels into a dataset\n",
    "\n",
    "# DataLoader will provide mini-batches and shuffle the data each epoch\n",
    "train_loader = DataLoader(train_dataset, batch_size=batch_size, shuffle=True)\n",
    "\n",
    "n_qubits = 4  # 4 features\n",
    "qc = QuantumCircuit(n_qubits)\n",
    "\n",
    "# Parameters used for encoding classical features into qubits\n",
    "x_params = [Parameter(f'x{i}') for i in range(n_qubits)]\n",
    "\n",
    "# Trainable parameters for the variational layers (two layers)\n",
    "theta_params = [Parameter(f'theta{i}_1') for i in range(n_qubits)] + \\\n",
    "               [Parameter(f'theta{i}_2') for i in range(n_qubits)]\n",
    "\n",
    "# Layer 1: Input encoding + variational\n",
    "for i in range(n_qubits):\n",
    "    qc.ry(x_params[i], i)  # Encode feature i as rotation around Y-axis\n",
    "    qc.rz(x_params[i], i)  # Encode feature i as rotation around Z-axis for richer representation\n",
    "for i in range(n_qubits):\n",
    "    qc.ry(theta_params[i], i)  # First layer of trainable rotations\n",
    "for i in range(n_qubits - 1):\n",
    "    qc.cx(i, i + 1)            # Linear entanglement between qubits with CNOT gates\n",
    "\n",
    "# Layer 2: Variational only\n",
    "for i in range(n_qubits, 2*n_qubits):\n",
    "    qc.ry(theta_params[i], i - n_qubits)  # Second layer of trainable rotations\n",
    "for i in range(n_qubits - 1):\n",
    "    qc.cx(i, i + 1)                       # Another layer of linear entanglement\n",
    "\n",
    "\n",
    "# Measure the Pauli-Z operator on each qubit\n",
    "# This provides a vector of expectation values (one per qubit) as the quantum output\n",
    "observables = [SparsePauliOp(\"I\" * i + \"Z\" + \"I\" * (n_qubits - 1 - i)) for i in range(n_qubits)]\n",
    "\n",
    "qc.draw(output='mpl')"
   ]
  },
  {
   "cell_type": "code",
   "execution_count": 5,
   "id": "e2ec3cfb-04f1-4266-9456-ac2097233702",
   "metadata": {},
   "outputs": [],
   "source": [
    "backend = AerSimulator(method='statevector')\n",
    "estimator = EstimatorV2(mode=backend)\n",
    "gradient = ParamShiftEstimatorGradient(estimator)\n",
    "\n",
    "qnn = EstimatorQNN(\n",
    "    circuit=qc,\n",
    "    estimator=estimator,\n",
    "    input_params=x_params,\n",
    "    weight_params=theta_params,\n",
    "    observables=observables,\n",
    "    gradient=gradient\n",
    ")\n",
    "\n",
    "qnn_torch = TorchConnector(qnn)"
   ]
  },
  {
   "cell_type": "code",
   "execution_count": null,
   "id": "4a34205f-af76-4463-9f97-3bc5abe91ef1",
   "metadata": {},
   "outputs": [],
   "source": [
    "class HybridModel(nn.Module):\n",
    "    def __init__(self):\n",
    "        super().__init__()\n",
    "        # Quantum layer: outputs expectation values from the quantum circuit\n",
    "        self.qlayer = qnn_torch\n",
    "        \n",
    "        # Classical hidden layer: maps quantum outputs to higher-dimensional space\n",
    "        self.hidden = nn.Linear(n_qubits, 6)  # 6 neurons in hidden layer\n",
    "        \n",
    "        # Non-linear activation function\n",
    "        self.relu = nn.ReLU()\n",
    "        \n",
    "        # Output layer: maps hidden layer to 3 classes (Iris species)\n",
    "        self.fc = nn.Linear(6, 3)  # 3 output neurons, one per class\n",
    "    \n",
    "    def forward(self, x):\n",
    "        # Pass input through quantum layer\n",
    "        x = self.qlayer(x)\n",
    "        \n",
    "        # Pass quantum output through classical hidden layer + activation\n",
    "        x = self.hidden(x)\n",
    "        x = self.relu(x)\n",
    "        \n",
    "        # Final linear layer to get logits for each class\n",
    "        x = self.fc(x)\n",
    "        return x\n",
    "    \n",
    "model = HybridModel()                     # Create an instance of the hybrid model\n",
    "criterion = nn.CrossEntropyLoss()         # Cross-entropy loss for multi-class classification\n",
    "\n",
    "optimizer = torch.optim.Adam(model.parameters(), lr=0.01)  \n",
    "# Adam optimizer with learning rate 0.01"
   ]
  },
  {
   "cell_type": "code",
   "execution_count": 7,
   "id": "490e5ded-2e3b-40ae-9258-c370f920070d",
   "metadata": {},
   "outputs": [
    {
     "name": "stdout",
     "output_type": "stream",
     "text": [
      "Epoch 3: Loss=1.0957, Train Accuracy=0.6167\n",
      "Epoch 6: Loss=0.8568, Train Accuracy=0.7083\n",
      "Epoch 9: Loss=0.5159, Train Accuracy=0.7917\n",
      "Epoch 12: Loss=0.3610, Train Accuracy=0.8167\n",
      "Epoch 15: Loss=0.1988, Train Accuracy=0.9167\n",
      "Epoch 18: Loss=0.1795, Train Accuracy=0.9667\n",
      "Epoch 21: Loss=0.0340, Train Accuracy=0.9750\n",
      "Epoch 24: Loss=0.2411, Train Accuracy=0.9833\n"
     ]
    }
   ],
   "source": [
    "epochs = 25\n",
    "for epoch in range(epochs):\n",
    "    for batch_x, batch_y in train_loader:\n",
    "        optimizer.zero_grad()\n",
    "        outputs = model(batch_x)\n",
    "        loss = criterion(outputs, batch_y)\n",
    "        loss.backward()\n",
    "        optimizer.step()\n",
    "    \n",
    "    if (epoch + 1) % 3 == 0:\n",
    "        with torch.no_grad():\n",
    "            outputs = model(X_train)\n",
    "            _, preds = torch.max(outputs, 1)\n",
    "            acc = (preds == y_train).float().mean()\n",
    "            print(f\"Epoch {epoch+1}: Loss={loss.item():.4f}, Train Accuracy={acc.item():.4f}\")"
   ]
  },
  {
   "cell_type": "code",
   "execution_count": 8,
   "id": "f3486167-0adf-4a27-b9a0-322904bc4838",
   "metadata": {},
   "outputs": [
    {
     "name": "stdout",
     "output_type": "stream",
     "text": [
      "Test Accuracy: 1.0000\n"
     ]
    }
   ],
   "source": [
    "with torch.no_grad():\n",
    "    outputs = model(X_test)\n",
    "    _, preds = torch.max(outputs, 1)\n",
    "    acc = (preds == y_test).float().mean()\n",
    "    print(f\"Test Accuracy: {acc.item():.4f}\")"
   ]
  }
 ],
 "metadata": {
  "kernelspec": {
   "display_name": "Python 3 (ipykernel)",
   "language": "python",
   "name": "python3"
  },
  "language_info": {
   "codemirror_mode": {
    "name": "ipython",
    "version": 3
   },
   "file_extension": ".py",
   "mimetype": "text/x-python",
   "name": "python",
   "nbconvert_exporter": "python",
   "pygments_lexer": "ipython3",
   "version": "3.11.4"
  }
 },
 "nbformat": 4,
 "nbformat_minor": 5
}
